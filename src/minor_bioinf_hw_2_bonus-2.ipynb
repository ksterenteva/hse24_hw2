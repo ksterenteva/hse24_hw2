{
  "nbformat": 4,
  "nbformat_minor": 0,
  "metadata": {
    "colab": {
      "provenance": []
    },
    "kernelspec": {
      "name": "python3",
      "display_name": "Python 3"
    },
    "language_info": {
      "name": "python"
    }
  },
  "cells": [
    {
      "cell_type": "markdown",
      "source": [
        "Скачиваем геном бактерии T. oleivorans MIL-1"
      ],
      "metadata": {
        "id": "JvVG6RJrOy5_"
      }
    },
    {
      "cell_type": "code",
      "execution_count": 1,
      "metadata": {
        "colab": {
          "base_uri": "https://localhost:8080/"
        },
        "id": "9vXx-ZSQOaU9",
        "outputId": "4e9d39a5-accd-448c-ccd5-23ba84a6fab9"
      },
      "outputs": [
        {
          "output_type": "stream",
          "name": "stdout",
          "text": [
            "\n",
            "Entrez Direct has been successfully downloaded and installed.\n",
            "\n",
            "In order to complete the configuration process, please execute the following:\n",
            "\n",
            "  echo \"export PATH=/root/edirect:\\${PATH}\" >> ${HOME}/.bashrc\n",
            "\n",
            "or manually edit the PATH variable assignment in your .bashrc file.\n",
            "\n",
            "Would you like to do that automatically now? [y/N]\n",
            "y\n",
            "OK, done.\n",
            "\n",
            "To activate EDirect for this terminal session, please execute the following:\n",
            "\n",
            "export PATH=${HOME}/edirect:${PATH}\n",
            "\n"
          ]
        }
      ],
      "source": [
        "!sh -c \"$(curl -fsSL ftp://ftp.ncbi.nlm.nih.gov/entrez/entrezdirect/install-edirect.sh)\""
      ]
    },
    {
      "cell_type": "code",
      "source": [
        "!$HOME/edirect/efetch -db nuccore -id HF680312 -format gb  >  T_oleivorans_MIL_1.gbk"
      ],
      "metadata": {
        "id": "rwmN2K2YOwIr"
      },
      "execution_count": 2,
      "outputs": []
    },
    {
      "cell_type": "markdown",
      "source": [
        "Устанавливаем программы"
      ],
      "metadata": {
        "id": "COc4p6k3O4_u"
      }
    },
    {
      "cell_type": "code",
      "source": [
        "!pip install biopython"
      ],
      "metadata": {
        "colab": {
          "base_uri": "https://localhost:8080/"
        },
        "id": "Sz3axOSdO8XJ",
        "outputId": "99dfd766-bb12-4ba4-bc2b-bd63b38496c1"
      },
      "execution_count": 3,
      "outputs": [
        {
          "output_type": "stream",
          "name": "stdout",
          "text": [
            "Collecting biopython\n",
            "  Downloading biopython-1.84-cp310-cp310-manylinux_2_17_x86_64.manylinux2014_x86_64.whl.metadata (12 kB)\n",
            "Requirement already satisfied: numpy in /usr/local/lib/python3.10/dist-packages (from biopython) (1.26.4)\n",
            "Downloading biopython-1.84-cp310-cp310-manylinux_2_17_x86_64.manylinux2014_x86_64.whl (3.2 MB)\n",
            "\u001b[?25l   \u001b[90m━━━━━━━━━━━━━━━━━━━━━━━━━━━━━━━━━━━━━━━━\u001b[0m \u001b[32m0.0/3.2 MB\u001b[0m \u001b[31m?\u001b[0m eta \u001b[36m-:--:--\u001b[0m\r\u001b[2K   \u001b[91m━━━━━━━━━━━━━━━━━━━━━━━━━━━━━━━━━━━━━━━\u001b[0m\u001b[91m╸\u001b[0m \u001b[32m3.2/3.2 MB\u001b[0m \u001b[31m156.7 MB/s\u001b[0m eta \u001b[36m0:00:01\u001b[0m\r\u001b[2K   \u001b[90m━━━━━━━━━━━━━━━━━━━━━━━━━━━━━━━━━━━━━━━━\u001b[0m \u001b[32m3.2/3.2 MB\u001b[0m \u001b[31m74.3 MB/s\u001b[0m eta \u001b[36m0:00:00\u001b[0m\n",
            "\u001b[?25hInstalling collected packages: biopython\n",
            "Successfully installed biopython-1.84\n"
          ]
        }
      ]
    },
    {
      "cell_type": "code",
      "source": [
        "!apt-get update"
      ],
      "metadata": {
        "colab": {
          "base_uri": "https://localhost:8080/"
        },
        "id": "irzBJEoCO-JQ",
        "outputId": "230c3293-c39a-4c4e-9766-64dc726bde7c"
      },
      "execution_count": 4,
      "outputs": [
        {
          "output_type": "stream",
          "name": "stdout",
          "text": [
            "\r0% [Working]\r            \rHit:1 http://archive.ubuntu.com/ubuntu jammy InRelease\n",
            "\r0% [Connecting to security.ubuntu.com (185.125.190.83)] [Connected to cloud.r-project.org (3.171.85.\r                                                                                                    \rGet:2 http://archive.ubuntu.com/ubuntu jammy-updates InRelease [128 kB]\n",
            "\r                                                                                                    \rGet:3 http://archive.ubuntu.com/ubuntu jammy-backports InRelease [127 kB]\n",
            "\r                                                                                                    \rGet:4 https://cloud.r-project.org/bin/linux/ubuntu jammy-cran40/ InRelease [3,626 B]\n",
            "Get:5 http://security.ubuntu.com/ubuntu jammy-security InRelease [129 kB]\n",
            "Get:6 https://developer.download.nvidia.com/compute/cuda/repos/ubuntu2204/x86_64  InRelease [1,581 B]\n",
            "Ign:7 https://r2u.stat.illinois.edu/ubuntu jammy InRelease\n",
            "Get:8 https://r2u.stat.illinois.edu/ubuntu jammy Release [5,713 B]\n",
            "Get:9 https://r2u.stat.illinois.edu/ubuntu jammy Release.gpg [793 B]\n",
            "Hit:10 https://ppa.launchpadcontent.net/deadsnakes/ppa/ubuntu jammy InRelease\n",
            "Hit:11 https://ppa.launchpadcontent.net/graphics-drivers/ppa/ubuntu jammy InRelease\n",
            "Get:12 http://archive.ubuntu.com/ubuntu jammy-updates/main amd64 Packages [2,654 kB]\n",
            "Hit:13 https://ppa.launchpadcontent.net/ubuntugis/ppa/ubuntu jammy InRelease\n",
            "Get:14 http://archive.ubuntu.com/ubuntu jammy-updates/universe amd64 Packages [1,450 kB]\n",
            "Get:15 https://developer.download.nvidia.com/compute/cuda/repos/ubuntu2204/x86_64  Packages [1,071 kB]\n",
            "Get:16 https://r2u.stat.illinois.edu/ubuntu jammy/main amd64 Packages [2,601 kB]\n",
            "Get:17 https://r2u.stat.illinois.edu/ubuntu jammy/main all Packages [8,425 kB]\n",
            "Fetched 16.6 MB in 4s (4,026 kB/s)\n",
            "Reading package lists... Done\n",
            "W: Skipping acquire of configured file 'main/source/Sources' as repository 'https://r2u.stat.illinois.edu/ubuntu jammy InRelease' does not seem to provide it (sources.list entry misspelt?)\n"
          ]
        }
      ]
    },
    {
      "cell_type": "code",
      "source": [
        "!apt-get install ncbi-blast+"
      ],
      "metadata": {
        "colab": {
          "base_uri": "https://localhost:8080/"
        },
        "id": "QWJlBY1PPCxB",
        "outputId": "89d55ef1-59c9-4ce2-d1a9-77b35ff332f0"
      },
      "execution_count": 5,
      "outputs": [
        {
          "output_type": "stream",
          "name": "stdout",
          "text": [
            "Reading package lists... Done\n",
            "Building dependency tree... Done\n",
            "Reading state information... Done\n",
            "The following additional packages will be installed:\n",
            "  liblmdb0 ncbi-data\n",
            "The following NEW packages will be installed:\n",
            "  liblmdb0 ncbi-blast+ ncbi-data\n",
            "0 upgraded, 3 newly installed, 0 to remove and 50 not upgraded.\n",
            "Need to get 15.9 MB of archives.\n",
            "After this operation, 71.9 MB of additional disk space will be used.\n",
            "Get:1 http://archive.ubuntu.com/ubuntu jammy/main amd64 liblmdb0 amd64 0.9.24-1build2 [47.6 kB]\n",
            "Get:2 http://archive.ubuntu.com/ubuntu jammy/universe amd64 ncbi-data all 6.1.20170106+dfsg1-9 [3,519 kB]\n",
            "Get:3 http://archive.ubuntu.com/ubuntu jammy/universe amd64 ncbi-blast+ amd64 2.12.0+ds-3build1 [12.3 MB]\n",
            "Fetched 15.9 MB in 1s (12.6 MB/s)\n",
            "Selecting previously unselected package liblmdb0:amd64.\n",
            "(Reading database ... 123622 files and directories currently installed.)\n",
            "Preparing to unpack .../liblmdb0_0.9.24-1build2_amd64.deb ...\n",
            "Unpacking liblmdb0:amd64 (0.9.24-1build2) ...\n",
            "Selecting previously unselected package ncbi-data.\n",
            "Preparing to unpack .../ncbi-data_6.1.20170106+dfsg1-9_all.deb ...\n",
            "Unpacking ncbi-data (6.1.20170106+dfsg1-9) ...\n",
            "Selecting previously unselected package ncbi-blast+.\n",
            "Preparing to unpack .../ncbi-blast+_2.12.0+ds-3build1_amd64.deb ...\n",
            "Unpacking ncbi-blast+ (2.12.0+ds-3build1) ...\n",
            "Setting up liblmdb0:amd64 (0.9.24-1build2) ...\n",
            "Setting up ncbi-data (6.1.20170106+dfsg1-9) ...\n",
            "Setting up ncbi-blast+ (2.12.0+ds-3build1) ...\n",
            "Processing triggers for libc-bin (2.35-0ubuntu3.4) ...\n",
            "/sbin/ldconfig.real: /usr/local/lib/libur_adapter_level_zero.so.0 is not a symbolic link\n",
            "\n",
            "/sbin/ldconfig.real: /usr/local/lib/libtbbbind_2_5.so.3 is not a symbolic link\n",
            "\n",
            "/sbin/ldconfig.real: /usr/local/lib/libtbbbind.so.3 is not a symbolic link\n",
            "\n",
            "/sbin/ldconfig.real: /usr/local/lib/libtbbmalloc.so.2 is not a symbolic link\n",
            "\n",
            "/sbin/ldconfig.real: /usr/local/lib/libur_adapter_opencl.so.0 is not a symbolic link\n",
            "\n",
            "/sbin/ldconfig.real: /usr/local/lib/libtbb.so.12 is not a symbolic link\n",
            "\n",
            "/sbin/ldconfig.real: /usr/local/lib/libtbbbind_2_0.so.3 is not a symbolic link\n",
            "\n",
            "/sbin/ldconfig.real: /usr/local/lib/libur_loader.so.0 is not a symbolic link\n",
            "\n",
            "/sbin/ldconfig.real: /usr/local/lib/libtbbmalloc_proxy.so.2 is not a symbolic link\n",
            "\n",
            "Processing triggers for man-db (2.10.2-1) ...\n",
            "Processing triggers for hicolor-icon-theme (0.17-2) ...\n"
          ]
        }
      ]
    },
    {
      "cell_type": "markdown",
      "source": [
        "## Предсказание рибосомальной рнк"
      ],
      "metadata": {
        "id": "KUYWSj-SVz26"
      }
    },
    {
      "cell_type": "markdown",
      "source": [
        "загрузила файлы scaffolds.hits_from_MIL_1.txt и platanus_gapClosed.fa"
      ],
      "metadata": {
        "id": "KgZnOO2bWW1E"
      }
    },
    {
      "cell_type": "markdown",
      "source": [
        "Читаем файл T_oleivorans_MIL_1.gbk, а также находим начало, конец и знак стренда в рРНК"
      ],
      "metadata": {
        "id": "Bc7NT69JXT3e"
      }
    },
    {
      "cell_type": "code",
      "source": [
        "from Bio import SeqIO\n",
        "from Bio.SeqFeature import SeqFeature, FeatureLocation\n",
        "import re"
      ],
      "metadata": {
        "id": "OVx7DoB7XecS"
      },
      "execution_count": 6,
      "outputs": []
    },
    {
      "cell_type": "code",
      "source": [
        "path = \"T_oleivorans_MIL_1.gbk\"\n",
        "coords_start = []\n",
        "coords_end = []\n",
        "coords_st = []\n",
        "data = SeqIO.read(\"T_oleivorans_MIL_1.gbk\", \"genbank\")\n",
        "display(data)\n",
        "for f in SeqIO.read(path, \"genbank\").features:\n",
        "  if f.type == 'rRNA':\n",
        "    coords_start.append(int(f.location.start))\n",
        "    coords_end.append(int(f.location.end))\n",
        "    coords_st.append(f.strand)\n",
        "print(\"start\", coords_start)\n",
        "print(\"end\", coords_end)\n",
        "print(\"st\", coords_st)"
      ],
      "metadata": {
        "colab": {
          "base_uri": "https://localhost:8080/",
          "height": 156
        },
        "id": "Q3OrvplwVqfO",
        "outputId": "e7d3981e-6634-4447-ec8e-20518c074499"
      },
      "execution_count": 7,
      "outputs": [
        {
          "output_type": "display_data",
          "data": {
            "text/plain": [
              "SeqRecord(seq=Seq('TTGGGTAGAATGGCTGGCTCGATTGAAATCTTTGATGACGCTAGTAACAGGGGT...CTC'), id='HF680312.1', name='HF680312', description='Thalassolituus oleivorans MIL-1 complete genome', dbxrefs=['BioProject:PRJEB1425', 'BioSample:SAMEA2272589'])"
            ]
          },
          "metadata": {}
        },
        {
          "output_type": "stream",
          "name": "stdout",
          "text": [
            "start [341494, 343487, 346568, 2580484, 2580781, 2583918, 3418645, 3418942, 3422079, 3423993, 3424290, 3427427]\n",
            "end [343033, 346374, 346684, 2580600, 2583668, 2585457, 3418761, 3421829, 3423618, 3424109, 3427177, 3428966]\n",
            "st [1, 1, 1, -1, -1, -1, -1, -1, -1, -1, -1, -1]\n"
          ]
        },
        {
          "output_type": "stream",
          "name": "stderr",
          "text": [
            "/usr/local/lib/python3.10/dist-packages/Bio/SeqFeature.py:231: BiopythonDeprecationWarning: Please use .location.strand rather than .strand\n",
            "  warnings.warn(\n"
          ]
        }
      ]
    },
    {
      "cell_type": "markdown",
      "source": [
        "Формируем файл FASTA, содержащий последовательности рРНК, найденные в геноме, с соответствующими заголовками"
      ],
      "metadata": {
        "id": "-hHe3kdMOU-H"
      }
    },
    {
      "cell_type": "code",
      "source": [
        "f = open('resSeq.fasta', 'w')\n",
        "for i in range(len(coords_st)):\n",
        "  f.write(f'> rRNA {coords_start[i]}...{coords_end[i]}\\n')\n",
        "  f.write(str(data.seq[coords_start[i]:coords_end[i]]) + '\\n')\n",
        "f.close()"
      ],
      "metadata": {
        "id": "FDz4UROPXidb"
      },
      "execution_count": 8,
      "outputs": []
    },
    {
      "cell_type": "markdown",
      "source": [
        "Выполняем BLAST - сравнениваем последовательности рРНК, сохранённых в файле resSeq.fasta, с последовательностями, содержащимися в файле с собранным геномом"
      ],
      "metadata": {
        "id": "EGYdJBeDOlTO"
      }
    },
    {
      "cell_type": "code",
      "source": [
        "!blastn -query resSeq.fasta -subject scaffolds-3.fasta > Data_inform.gbk"
      ],
      "metadata": {
        "id": "MMdjlWYZXlGl"
      },
      "execution_count": 9,
      "outputs": []
    },
    {
      "cell_type": "markdown",
      "source": [
        "Читаем Data_inform.gbk, содержащий результаты BLAST, и извлекаем информацию о совпадениях рРНК с последовательностями в нашем геноме"
      ],
      "metadata": {
        "id": "GBOFX8elO9Gg"
      }
    },
    {
      "cell_type": "code",
      "source": [
        "path = \"Data_inform.gbk\"\n",
        "\n",
        "with open(path, 'r') as file:\n",
        "    search_mode = False\n",
        "    sequences = []\n",
        "    similarity_scores = []\n",
        "    current_similarity = []\n",
        "    markers = [\"Query=\", \">\", \"Identities\"]\n",
        "\n",
        "    for line in file:\n",
        "        parts = line.split()\n",
        "\n",
        "        if parts:\n",
        "            if parts[0] == markers[0]:\n",
        "                if search_mode:\n",
        "                    similarity_scores.append(current_similarity)\n",
        "                    print(f'Similarity for rRNA {query_name}')\n",
        "                    for i, seq in enumerate(sequences):\n",
        "                        print(f\"Sequence = {seq}, Similarity = {similarity_scores[i]}\")\n",
        "                query_name = parts[2]\n",
        "                search_mode = True\n",
        "                sequences = []\n",
        "                similarity_scores = []\n",
        "                current_similarity = []\n",
        "\n",
        "            elif parts[0] == markers[1]:\n",
        "                if sequences:\n",
        "                    similarity_scores.append(current_similarity)\n",
        "                sequences.append(parts[1])\n",
        "                current_similarity = []\n",
        "\n",
        "            elif parts[0] == markers[2]:\n",
        "                current_similarity.append(parts[3][1:-2])\n",
        "\n",
        "    if search_mode:\n",
        "        similarity_scores.append(current_similarity)\n",
        "        print(f'Similarity for rRNA {query_name}')\n",
        "        for i, seq in enumerate(sequences):\n",
        "            print(f\"Sequence = {seq}, Similarity = {similarity_scores[i]}\")\n"
      ],
      "metadata": {
        "colab": {
          "base_uri": "https://localhost:8080/"
        },
        "id": "3lDoJKigQETx",
        "outputId": "6a380d7a-9dcc-43d0-e80c-8acb31e69274"
      },
      "execution_count": 10,
      "outputs": [
        {
          "output_type": "stream",
          "name": "stdout",
          "text": [
            "Similarity for rRNA 341494...343033\n",
            "Sequence = scaffold73_cov665, Similarity = ['100%']\n",
            "Sequence = scaffold3_cov273, Similarity = ['100%']\n",
            "Similarity for rRNA 343487...346374\n",
            "Sequence = scaffold69_cov665, Similarity = ['100%']\n",
            "Sequence = scaffold68_cov665, Similarity = ['100%']\n",
            "Sequence = scaffold70_cov714, Similarity = ['100%']\n",
            "Similarity for rRNA 346568...346684\n",
            "Sequence = scaffold69_cov665, Similarity = ['100%']\n",
            "Sequence = scaffold3_cov273, Similarity = ['100%']\n",
            "Similarity for rRNA 2580484...2580600\n",
            "Sequence = scaffold69_cov665, Similarity = ['99%']\n",
            "Sequence = scaffold3_cov273, Similarity = ['97%']\n",
            "Similarity for rRNA 2580781...2583668\n",
            "Sequence = scaffold69_cov665, Similarity = ['100%']\n",
            "Sequence = scaffold68_cov665, Similarity = ['100%']\n",
            "Sequence = scaffold70_cov714, Similarity = ['100%']\n",
            "Similarity for rRNA 2583918...2585457\n",
            "Sequence = scaffold73_cov665, Similarity = ['99%']\n",
            "Sequence = scaffold3_cov273, Similarity = ['100%']\n",
            "Similarity for rRNA 3418645...3418761\n",
            "Sequence = scaffold69_cov665, Similarity = ['100%']\n",
            "Sequence = scaffold3_cov273, Similarity = ['100%']\n",
            "Similarity for rRNA 3418942...3421829\n",
            "Sequence = scaffold69_cov665, Similarity = ['100%']\n",
            "Sequence = scaffold68_cov665, Similarity = ['100%']\n",
            "Sequence = scaffold70_cov714, Similarity = ['100%']\n",
            "Similarity for rRNA 3422079...3423618\n",
            "Sequence = scaffold73_cov665, Similarity = ['99%']\n",
            "Sequence = scaffold3_cov273, Similarity = ['100%']\n",
            "Similarity for rRNA 3423993...3424109\n",
            "Sequence = scaffold69_cov665, Similarity = ['100%']\n",
            "Sequence = scaffold3_cov273, Similarity = ['100%']\n",
            "Similarity for rRNA 3424290...3427177\n",
            "Sequence = scaffold69_cov665, Similarity = ['100%']\n",
            "Sequence = scaffold68_cov665, Similarity = ['100%']\n",
            "Sequence = scaffold70_cov714, Similarity = ['100%']\n",
            "Similarity for rRNA 3427427...3428966\n",
            "Sequence = scaffold73_cov665, Similarity = ['99%']\n",
            "Sequence = scaffold3_cov273, Similarity = ['100%']\n"
          ]
        }
      ]
    }
  ]
}