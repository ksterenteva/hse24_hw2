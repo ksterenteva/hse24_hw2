{
  "nbformat": 4,
  "nbformat_minor": 0,
  "metadata": {
    "colab": {
      "provenance": []
    },
    "kernelspec": {
      "name": "python3",
      "display_name": "Python 3"
    },
    "language_info": {
      "name": "python"
    }
  },
  "cells": [
    {
      "cell_type": "markdown",
      "source": [
        "Скачиваем геном бактерии T. oleivorans MIL-1"
      ],
      "metadata": {
        "id": "JvVG6RJrOy5_"
      }
    },
    {
      "cell_type": "code",
      "execution_count": 1,
      "metadata": {
        "colab": {
          "base_uri": "https://localhost:8080/"
        },
        "id": "9vXx-ZSQOaU9",
        "outputId": "5ddcde3d-e1a6-4809-bca6-9ecb17697943"
      },
      "outputs": [
        {
          "output_type": "stream",
          "name": "stdout",
          "text": [
            "\n",
            "Entrez Direct has been successfully downloaded and installed.\n",
            "\n",
            "In order to complete the configuration process, please execute the following:\n",
            "\n",
            "  echo \"export PATH=/root/edirect:\\${PATH}\" >> ${HOME}/.bashrc\n",
            "\n",
            "or manually edit the PATH variable assignment in your .bashrc file.\n",
            "\n",
            "Would you like to do that automatically now? [y/N]\n",
            "y\n",
            "OK, done.\n",
            "\n",
            "To activate EDirect for this terminal session, please execute the following:\n",
            "\n",
            "export PATH=${HOME}/edirect:${PATH}\n",
            "\n"
          ]
        }
      ],
      "source": [
        "!sh -c \"$(curl -fsSL ftp://ftp.ncbi.nlm.nih.gov/entrez/entrezdirect/install-edirect.sh)\""
      ]
    },
    {
      "cell_type": "code",
      "source": [
        "!$HOME/edirect/efetch -db nuccore -id HF680312 -format gb  >  T_oleivorans_MIL_1.gbk"
      ],
      "metadata": {
        "id": "rwmN2K2YOwIr"
      },
      "execution_count": 2,
      "outputs": []
    },
    {
      "cell_type": "markdown",
      "source": [
        "Устанавливаем программы"
      ],
      "metadata": {
        "id": "COc4p6k3O4_u"
      }
    },
    {
      "cell_type": "code",
      "source": [
        "!pip install biopython"
      ],
      "metadata": {
        "colab": {
          "base_uri": "https://localhost:8080/"
        },
        "id": "Sz3axOSdO8XJ",
        "outputId": "cf185f23-c9b8-4f32-83cd-5c661a5aeaf8"
      },
      "execution_count": 3,
      "outputs": [
        {
          "output_type": "stream",
          "name": "stdout",
          "text": [
            "Collecting biopython\n",
            "  Downloading biopython-1.84-cp310-cp310-manylinux_2_17_x86_64.manylinux2014_x86_64.whl.metadata (12 kB)\n",
            "Requirement already satisfied: numpy in /usr/local/lib/python3.10/dist-packages (from biopython) (1.26.4)\n",
            "Downloading biopython-1.84-cp310-cp310-manylinux_2_17_x86_64.manylinux2014_x86_64.whl (3.2 MB)\n",
            "\u001b[2K   \u001b[90m━━━━━━━━━━━━━━━━━━━━━━━━━━━━━━━━━━━━━━━━\u001b[0m \u001b[32m3.2/3.2 MB\u001b[0m \u001b[31m22.1 MB/s\u001b[0m eta \u001b[36m0:00:00\u001b[0m\n",
            "\u001b[?25hInstalling collected packages: biopython\n",
            "Successfully installed biopython-1.84\n"
          ]
        }
      ]
    },
    {
      "cell_type": "code",
      "source": [
        "!apt-get update"
      ],
      "metadata": {
        "colab": {
          "base_uri": "https://localhost:8080/"
        },
        "id": "irzBJEoCO-JQ",
        "outputId": "1e8b04cf-fc87-404a-b8e1-2625b72c3ac2"
      },
      "execution_count": 4,
      "outputs": [
        {
          "output_type": "stream",
          "name": "stdout",
          "text": [
            "\r0% [Working]\r            \rGet:1 https://cloud.r-project.org/bin/linux/ubuntu jammy-cran40/ InRelease [3,626 B]\n",
            "\r0% [Connecting to archive.ubuntu.com (91.189.91.83)] [Connecting to security.ubuntu.com (185.125.190\r0% [Connecting to archive.ubuntu.com (91.189.91.83)] [Connecting to security.ubuntu.com (185.125.190\r                                                                                                    \rGet:2 https://developer.download.nvidia.com/compute/cuda/repos/ubuntu2204/x86_64  InRelease [1,581 B]\n",
            "Hit:3 http://archive.ubuntu.com/ubuntu jammy InRelease\n",
            "Ign:4 https://r2u.stat.illinois.edu/ubuntu jammy InRelease\n",
            "Get:5 http://archive.ubuntu.com/ubuntu jammy-updates InRelease [128 kB]\n",
            "Get:6 https://r2u.stat.illinois.edu/ubuntu jammy Release [5,713 B]\n",
            "Get:7 http://security.ubuntu.com/ubuntu jammy-security InRelease [129 kB]\n",
            "Get:8 https://r2u.stat.illinois.edu/ubuntu jammy Release.gpg [793 B]\n",
            "Get:9 https://developer.download.nvidia.com/compute/cuda/repos/ubuntu2204/x86_64  Packages [1,071 kB]\n",
            "Get:10 http://archive.ubuntu.com/ubuntu jammy-backports InRelease [127 kB]\n",
            "Hit:11 https://ppa.launchpadcontent.net/deadsnakes/ppa/ubuntu jammy InRelease\n",
            "Hit:12 https://ppa.launchpadcontent.net/graphics-drivers/ppa/ubuntu jammy InRelease\n",
            "Hit:13 https://ppa.launchpadcontent.net/ubuntugis/ppa/ubuntu jammy InRelease\n",
            "Get:14 https://r2u.stat.illinois.edu/ubuntu jammy/main all Packages [8,428 kB]\n",
            "Get:15 http://archive.ubuntu.com/ubuntu jammy-updates/main amd64 Packages [2,654 kB]\n",
            "Get:16 http://archive.ubuntu.com/ubuntu jammy-updates/universe amd64 Packages [1,451 kB]\n",
            "Get:17 https://r2u.stat.illinois.edu/ubuntu jammy/main amd64 Packages [2,602 kB]\n",
            "Fetched 16.6 MB in 3s (5,989 kB/s)\n",
            "Reading package lists... Done\n",
            "W: Skipping acquire of configured file 'main/source/Sources' as repository 'https://r2u.stat.illinois.edu/ubuntu jammy InRelease' does not seem to provide it (sources.list entry misspelt?)\n"
          ]
        }
      ]
    },
    {
      "cell_type": "code",
      "source": [
        "!apt-get install ncbi-blast+"
      ],
      "metadata": {
        "colab": {
          "base_uri": "https://localhost:8080/"
        },
        "id": "QWJlBY1PPCxB",
        "outputId": "28fffd4c-3a40-4082-a1a6-a7588c1be425"
      },
      "execution_count": 5,
      "outputs": [
        {
          "output_type": "stream",
          "name": "stdout",
          "text": [
            "Reading package lists... Done\n",
            "Building dependency tree... Done\n",
            "Reading state information... Done\n",
            "The following additional packages will be installed:\n",
            "  liblmdb0 ncbi-data\n",
            "The following NEW packages will be installed:\n",
            "  liblmdb0 ncbi-blast+ ncbi-data\n",
            "0 upgraded, 3 newly installed, 0 to remove and 50 not upgraded.\n",
            "Need to get 15.9 MB of archives.\n",
            "After this operation, 71.9 MB of additional disk space will be used.\n",
            "Get:1 http://archive.ubuntu.com/ubuntu jammy/main amd64 liblmdb0 amd64 0.9.24-1build2 [47.6 kB]\n",
            "Get:2 http://archive.ubuntu.com/ubuntu jammy/universe amd64 ncbi-data all 6.1.20170106+dfsg1-9 [3,519 kB]\n",
            "Get:3 http://archive.ubuntu.com/ubuntu jammy/universe amd64 ncbi-blast+ amd64 2.12.0+ds-3build1 [12.3 MB]\n",
            "Fetched 15.9 MB in 1s (14.8 MB/s)\n",
            "Selecting previously unselected package liblmdb0:amd64.\n",
            "(Reading database ... 123622 files and directories currently installed.)\n",
            "Preparing to unpack .../liblmdb0_0.9.24-1build2_amd64.deb ...\n",
            "Unpacking liblmdb0:amd64 (0.9.24-1build2) ...\n",
            "Selecting previously unselected package ncbi-data.\n",
            "Preparing to unpack .../ncbi-data_6.1.20170106+dfsg1-9_all.deb ...\n",
            "Unpacking ncbi-data (6.1.20170106+dfsg1-9) ...\n",
            "Selecting previously unselected package ncbi-blast+.\n",
            "Preparing to unpack .../ncbi-blast+_2.12.0+ds-3build1_amd64.deb ...\n",
            "Unpacking ncbi-blast+ (2.12.0+ds-3build1) ...\n",
            "Setting up liblmdb0:amd64 (0.9.24-1build2) ...\n",
            "Setting up ncbi-data (6.1.20170106+dfsg1-9) ...\n",
            "Setting up ncbi-blast+ (2.12.0+ds-3build1) ...\n",
            "Processing triggers for libc-bin (2.35-0ubuntu3.4) ...\n",
            "/sbin/ldconfig.real: /usr/local/lib/libur_adapter_level_zero.so.0 is not a symbolic link\n",
            "\n",
            "/sbin/ldconfig.real: /usr/local/lib/libtbbbind_2_5.so.3 is not a symbolic link\n",
            "\n",
            "/sbin/ldconfig.real: /usr/local/lib/libtbbbind.so.3 is not a symbolic link\n",
            "\n",
            "/sbin/ldconfig.real: /usr/local/lib/libtbbmalloc.so.2 is not a symbolic link\n",
            "\n",
            "/sbin/ldconfig.real: /usr/local/lib/libur_adapter_opencl.so.0 is not a symbolic link\n",
            "\n",
            "/sbin/ldconfig.real: /usr/local/lib/libtbb.so.12 is not a symbolic link\n",
            "\n",
            "/sbin/ldconfig.real: /usr/local/lib/libtbbbind_2_0.so.3 is not a symbolic link\n",
            "\n",
            "/sbin/ldconfig.real: /usr/local/lib/libur_loader.so.0 is not a symbolic link\n",
            "\n",
            "/sbin/ldconfig.real: /usr/local/lib/libtbbmalloc_proxy.so.2 is not a symbolic link\n",
            "\n",
            "Processing triggers for man-db (2.10.2-1) ...\n",
            "Processing triggers for hicolor-icon-theme (0.17-2) ...\n"
          ]
        }
      ]
    },
    {
      "cell_type": "markdown",
      "source": [
        "## Предсказание рибосомальной рнк"
      ],
      "metadata": {
        "id": "KUYWSj-SVz26"
      }
    },
    {
      "cell_type": "markdown",
      "source": [
        "загрузила файлы scaffolds.hits_from_MIL_1.txt и platanus_gapClosed.fa"
      ],
      "metadata": {
        "id": "KgZnOO2bWW1E"
      }
    },
    {
      "cell_type": "markdown",
      "source": [
        "Читаем файл T_oleivorans_MIL_1.gbk, а также находим начало, конец и знак стренда в рРНК"
      ],
      "metadata": {
        "id": "Bc7NT69JXT3e"
      }
    },
    {
      "cell_type": "code",
      "source": [
        "from Bio import SeqIO\n",
        "from Bio.SeqFeature import SeqFeature, FeatureLocation\n",
        "import re"
      ],
      "metadata": {
        "id": "OVx7DoB7XecS"
      },
      "execution_count": 6,
      "outputs": []
    },
    {
      "cell_type": "code",
      "source": [
        "path = \"T_oleivorans_MIL_1.gbk\"\n",
        "coords_start = []\n",
        "coords_end = []\n",
        "coords_st = []\n",
        "data = SeqIO.read(\"T_oleivorans_MIL_1.gbk\", \"genbank\")\n",
        "display(data)\n",
        "for f in SeqIO.read(path, \"genbank\").features:\n",
        "  if f.type == 'rRNA':\n",
        "    coords_start.append(int(f.location.start))\n",
        "    coords_end.append(int(f.location.end))\n",
        "    coords_st.append(f.strand)\n",
        "print(\"start\", coords_start)\n",
        "print(\"end\", coords_end)\n",
        "print(\"st\", coords_st)"
      ],
      "metadata": {
        "colab": {
          "base_uri": "https://localhost:8080/",
          "height": 173
        },
        "id": "Q3OrvplwVqfO",
        "outputId": "9b15a191-2447-4204-e1e8-5b53b3480410"
      },
      "execution_count": 7,
      "outputs": [
        {
          "output_type": "display_data",
          "data": {
            "text/plain": [
              "SeqRecord(seq=Seq('TTGGGTAGAATGGCTGGCTCGATTGAAATCTTTGATGACGCTAGTAACAGGGGT...CTC'), id='HF680312.1', name='HF680312', description='Thalassolituus oleivorans MIL-1 complete genome', dbxrefs=['BioProject:PRJEB1425', 'BioSample:SAMEA2272589'])"
            ]
          },
          "metadata": {}
        },
        {
          "output_type": "stream",
          "name": "stdout",
          "text": [
            "start [341494, 343487, 346568, 2580484, 2580781, 2583918, 3418645, 3418942, 3422079, 3423993, 3424290, 3427427]\n",
            "end [343033, 346374, 346684, 2580600, 2583668, 2585457, 3418761, 3421829, 3423618, 3424109, 3427177, 3428966]\n",
            "st [1, 1, 1, -1, -1, -1, -1, -1, -1, -1, -1, -1]\n"
          ]
        },
        {
          "output_type": "stream",
          "name": "stderr",
          "text": [
            "/usr/local/lib/python3.10/dist-packages/Bio/SeqFeature.py:231: BiopythonDeprecationWarning: Please use .location.strand rather than .strand\n",
            "  warnings.warn(\n"
          ]
        }
      ]
    },
    {
      "cell_type": "markdown",
      "source": [
        "Формируем файл FASTA, содержащий последовательности рРНК, найденные в геноме, с соответствующими заголовками"
      ],
      "metadata": {
        "id": "-hHe3kdMOU-H"
      }
    },
    {
      "cell_type": "code",
      "source": [
        "f = open('resSeq.fasta', 'w')\n",
        "for i in range(len(coords_st)):\n",
        "  f.write(f'> rRNA {coords_start[i]}...{coords_end[i]}\\n')\n",
        "  f.write(str(data.seq[coords_start[i]:coords_end[i]]) + '\\n')\n",
        "f.close()"
      ],
      "metadata": {
        "id": "FDz4UROPXidb"
      },
      "execution_count": 8,
      "outputs": []
    },
    {
      "cell_type": "markdown",
      "source": [
        "Выполняем BLAST - сравнениваем последовательности рРНК, сохранённых в файле resSeq.fasta, с последовательностями, содержащимися в файле с собранным геномом"
      ],
      "metadata": {
        "id": "EGYdJBeDOlTO"
      }
    },
    {
      "cell_type": "code",
      "source": [
        "!blastn -query resSeq.fasta -subject scaffolds-3.fasta > Data_inform.gbk"
      ],
      "metadata": {
        "id": "MMdjlWYZXlGl"
      },
      "execution_count": 9,
      "outputs": []
    },
    {
      "cell_type": "markdown",
      "source": [
        "Читаем Data_inform.gbk, содержащий результаты BLAST, и извлекаем информацию о совпадениях рРНК с последовательностями в нашем геноме"
      ],
      "metadata": {
        "id": "GBOFX8elO9Gg"
      }
    },
    {
      "cell_type": "code",
      "source": [
        "path = \"Data_inform.gbk\"\n",
        "f = open(path, 'r')\n",
        "for_look = 'no'\n",
        "al = []\n",
        "percent = []\n",
        "cur = []\n",
        "choose = [\"Query=\", \">\", \"Identities\"]\n",
        "for string in f:\n",
        "  string = string.split()\n",
        "  #print(string)\n",
        "  if string != []:\n",
        "    if string[0] == choose[0]:\n",
        "      if for_look == 'no':\n",
        "        for_look = 'yes'\n",
        "        remem = string[2]\n",
        "      percent.append(cur)\n",
        "      if al != []:\n",
        "        print(f'Resemblance rRna {remem}')\n",
        "        for ind in range(len(al)):\n",
        "          print(\"For seq =\", al[ind], \" percents :\", percent[ind], \"\\n\")\n",
        "        for_look == 'no'\n",
        "      al = []\n",
        "      percent = []\n",
        "    elif string[0] == choose[1]:\n",
        "      if al != []:\n",
        "        percent.append(cur)\n",
        "      cur = []\n",
        "      al.append(string[1])\n",
        "    elif string[0] == choose[2]:\n",
        "      cur.append(string[3][1:-2:])"
      ],
      "metadata": {
        "colab": {
          "base_uri": "https://localhost:8080/"
        },
        "id": "whfMt6HnX6w2",
        "outputId": "6b721896-8ba7-4723-e658-49d283c74b74"
      },
      "execution_count": 10,
      "outputs": [
        {
          "output_type": "stream",
          "name": "stdout",
          "text": [
            "Resemblance rRna 341494...343033\n",
            "For seq = scaffold73_cov665  percents : ['100%'] \n",
            "\n",
            "For seq = scaffold3_cov273  percents : ['100%'] \n",
            "\n",
            "Resemblance rRna 341494...343033\n",
            "For seq = scaffold69_cov665  percents : ['100%'] \n",
            "\n",
            "For seq = scaffold68_cov665  percents : ['100%'] \n",
            "\n",
            "For seq = scaffold70_cov714  percents : ['100%'] \n",
            "\n",
            "Resemblance rRna 341494...343033\n",
            "For seq = scaffold69_cov665  percents : ['100%'] \n",
            "\n",
            "For seq = scaffold3_cov273  percents : ['100%'] \n",
            "\n",
            "Resemblance rRna 341494...343033\n",
            "For seq = scaffold69_cov665  percents : ['99%'] \n",
            "\n",
            "For seq = scaffold3_cov273  percents : ['97%'] \n",
            "\n",
            "Resemblance rRna 341494...343033\n",
            "For seq = scaffold69_cov665  percents : ['100%'] \n",
            "\n",
            "For seq = scaffold68_cov665  percents : ['100%'] \n",
            "\n",
            "For seq = scaffold70_cov714  percents : ['100%'] \n",
            "\n",
            "Resemblance rRna 341494...343033\n",
            "For seq = scaffold73_cov665  percents : ['99%'] \n",
            "\n",
            "For seq = scaffold3_cov273  percents : ['100%'] \n",
            "\n",
            "Resemblance rRna 341494...343033\n",
            "For seq = scaffold69_cov665  percents : ['100%'] \n",
            "\n",
            "For seq = scaffold3_cov273  percents : ['100%'] \n",
            "\n",
            "Resemblance rRna 341494...343033\n",
            "For seq = scaffold69_cov665  percents : ['100%'] \n",
            "\n",
            "For seq = scaffold68_cov665  percents : ['100%'] \n",
            "\n",
            "For seq = scaffold70_cov714  percents : ['100%'] \n",
            "\n",
            "Resemblance rRna 341494...343033\n",
            "For seq = scaffold73_cov665  percents : ['99%'] \n",
            "\n",
            "For seq = scaffold3_cov273  percents : ['100%'] \n",
            "\n",
            "Resemblance rRna 341494...343033\n",
            "For seq = scaffold69_cov665  percents : ['100%'] \n",
            "\n",
            "For seq = scaffold3_cov273  percents : ['100%'] \n",
            "\n",
            "Resemblance rRna 341494...343033\n",
            "For seq = scaffold69_cov665  percents : ['100%'] \n",
            "\n",
            "For seq = scaffold68_cov665  percents : ['100%'] \n",
            "\n",
            "For seq = scaffold70_cov714  percents : ['100%'] \n",
            "\n"
          ]
        }
      ]
    }
  ]
}